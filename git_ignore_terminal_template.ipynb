{
 "cells": [
  {
   "cell_type": "markdown",
   "id": "028d4650",
   "metadata": {},
   "source": [
    "# adding a git ignore to repository from one that I made previously\n",
    "run the below commands on the terminal to add it to this repository"
   ]
  },
  {
   "cell_type": "code",
   "execution_count": null,
   "id": "3954f14e",
   "metadata": {},
   "outputs": [],
   "source": [
    "# cp ~/codeup-data-science/numpy-pandas-visualization-exercises/.gitignore ~/codeup-data-science/statistics-exercises "
   ]
  },
  {
   "cell_type": "code",
   "execution_count": null,
   "id": "f79fc23a",
   "metadata": {},
   "outputs": [],
   "source": [
    "# cp ~/codeup-data-science/numpy-pandas-visualization-exercises/env.py ~/codeup-data-science/statistics-exercises"
   ]
  },
  {
   "cell_type": "markdown",
   "id": "25e7ece3",
   "metadata": {},
   "source": [
    "# creating a template to use for future repositories"
   ]
  },
  {
   "cell_type": "code",
   "execution_count": null,
   "id": "477e83a8",
   "metadata": {},
   "outputs": [],
   "source": [
    "# cp ~/codeup-data-science/numpy-pandas-visualization-exercises/.gitignore ~/codeup-data-science/\"new_repository_name\""
   ]
  },
  {
   "cell_type": "code",
   "execution_count": null,
   "id": "7930db19",
   "metadata": {},
   "outputs": [],
   "source": [
    "# cp ~/codeup-data-science/numpy-pandas-visualization-exercises/env.py ~/codeup-data-science/\"new_repository_name\""
   ]
  },
  {
   "cell_type": "code",
   "execution_count": null,
   "id": "6da727de",
   "metadata": {},
   "outputs": [],
   "source": [
    "# cp ~/codeup-data-science/numpy-pandas-visualization-exercises/.gitignore ~/codeup-data-science/data_science_notes"
   ]
  },
  {
   "cell_type": "code",
   "execution_count": null,
   "id": "66e7f517",
   "metadata": {},
   "outputs": [],
   "source": [
    "# cp ~/codeup-data-science/numpy-pandas-visualization-exercises/env.py ~/codeup-data-science/data_science_notes"
   ]
  },
  {
   "cell_type": "markdown",
   "id": "36f19eaf",
   "metadata": {},
   "source": [
    "# setting up a template to connect to a database"
   ]
  },
  {
   "cell_type": "code",
   "execution_count": 1,
   "id": "59729ad4",
   "metadata": {},
   "outputs": [],
   "source": [
    "from env import host, user, password\n",
    "\n",
    "url = f'mysql+pymysql://{user}:{password}@{host}/employees'"
   ]
  },
  {
   "cell_type": "code",
   "execution_count": 2,
   "id": "9ccbde45",
   "metadata": {},
   "outputs": [],
   "source": [
    "def get_db_url(user,password,host,database):\n",
    "    \n",
    "    return f'mysql+pymysql://{user}:{password}@{host}/{database}'"
   ]
  },
  {
   "cell_type": "code",
   "execution_count": 3,
   "id": "13ef92fe",
   "metadata": {},
   "outputs": [
    {
     "data": {
      "text/html": [
       "<div>\n",
       "<style scoped>\n",
       "    .dataframe tbody tr th:only-of-type {\n",
       "        vertical-align: middle;\n",
       "    }\n",
       "\n",
       "    .dataframe tbody tr th {\n",
       "        vertical-align: top;\n",
       "    }\n",
       "\n",
       "    .dataframe thead th {\n",
       "        text-align: right;\n",
       "    }\n",
       "</style>\n",
       "<table border=\"1\" class=\"dataframe\">\n",
       "  <thead>\n",
       "    <tr style=\"text-align: right;\">\n",
       "      <th></th>\n",
       "      <th>emp_no</th>\n",
       "      <th>birth_date</th>\n",
       "      <th>first_name</th>\n",
       "      <th>last_name</th>\n",
       "      <th>gender</th>\n",
       "      <th>hire_date</th>\n",
       "    </tr>\n",
       "  </thead>\n",
       "  <tbody>\n",
       "    <tr>\n",
       "      <th>0</th>\n",
       "      <td>10001</td>\n",
       "      <td>1953-09-02</td>\n",
       "      <td>Georgi</td>\n",
       "      <td>Facello</td>\n",
       "      <td>M</td>\n",
       "      <td>1986-06-26</td>\n",
       "    </tr>\n",
       "    <tr>\n",
       "      <th>1</th>\n",
       "      <td>10002</td>\n",
       "      <td>1964-06-02</td>\n",
       "      <td>Bezalel</td>\n",
       "      <td>Simmel</td>\n",
       "      <td>F</td>\n",
       "      <td>1985-11-21</td>\n",
       "    </tr>\n",
       "    <tr>\n",
       "      <th>2</th>\n",
       "      <td>10003</td>\n",
       "      <td>1959-12-03</td>\n",
       "      <td>Parto</td>\n",
       "      <td>Bamford</td>\n",
       "      <td>M</td>\n",
       "      <td>1986-08-28</td>\n",
       "    </tr>\n",
       "    <tr>\n",
       "      <th>3</th>\n",
       "      <td>10004</td>\n",
       "      <td>1954-05-01</td>\n",
       "      <td>Chirstian</td>\n",
       "      <td>Koblick</td>\n",
       "      <td>M</td>\n",
       "      <td>1986-12-01</td>\n",
       "    </tr>\n",
       "    <tr>\n",
       "      <th>4</th>\n",
       "      <td>10005</td>\n",
       "      <td>1955-01-21</td>\n",
       "      <td>Kyoichi</td>\n",
       "      <td>Maliniak</td>\n",
       "      <td>M</td>\n",
       "      <td>1989-09-12</td>\n",
       "    </tr>\n",
       "    <tr>\n",
       "      <th>...</th>\n",
       "      <td>...</td>\n",
       "      <td>...</td>\n",
       "      <td>...</td>\n",
       "      <td>...</td>\n",
       "      <td>...</td>\n",
       "      <td>...</td>\n",
       "    </tr>\n",
       "    <tr>\n",
       "      <th>300019</th>\n",
       "      <td>499995</td>\n",
       "      <td>1958-09-24</td>\n",
       "      <td>Dekang</td>\n",
       "      <td>Lichtner</td>\n",
       "      <td>F</td>\n",
       "      <td>1993-01-12</td>\n",
       "    </tr>\n",
       "    <tr>\n",
       "      <th>300020</th>\n",
       "      <td>499996</td>\n",
       "      <td>1953-03-07</td>\n",
       "      <td>Zito</td>\n",
       "      <td>Baaz</td>\n",
       "      <td>M</td>\n",
       "      <td>1990-09-27</td>\n",
       "    </tr>\n",
       "    <tr>\n",
       "      <th>300021</th>\n",
       "      <td>499997</td>\n",
       "      <td>1961-08-03</td>\n",
       "      <td>Berhard</td>\n",
       "      <td>Lenart</td>\n",
       "      <td>M</td>\n",
       "      <td>1986-04-21</td>\n",
       "    </tr>\n",
       "    <tr>\n",
       "      <th>300022</th>\n",
       "      <td>499998</td>\n",
       "      <td>1956-09-05</td>\n",
       "      <td>Patricia</td>\n",
       "      <td>Breugel</td>\n",
       "      <td>M</td>\n",
       "      <td>1993-10-13</td>\n",
       "    </tr>\n",
       "    <tr>\n",
       "      <th>300023</th>\n",
       "      <td>499999</td>\n",
       "      <td>1958-05-01</td>\n",
       "      <td>Sachin</td>\n",
       "      <td>Tsukuda</td>\n",
       "      <td>M</td>\n",
       "      <td>1997-11-30</td>\n",
       "    </tr>\n",
       "  </tbody>\n",
       "</table>\n",
       "<p>300024 rows × 6 columns</p>\n",
       "</div>"
      ],
      "text/plain": [
       "        emp_no  birth_date first_name last_name gender   hire_date\n",
       "0        10001  1953-09-02     Georgi   Facello      M  1986-06-26\n",
       "1        10002  1964-06-02    Bezalel    Simmel      F  1985-11-21\n",
       "2        10003  1959-12-03      Parto   Bamford      M  1986-08-28\n",
       "3        10004  1954-05-01  Chirstian   Koblick      M  1986-12-01\n",
       "4        10005  1955-01-21    Kyoichi  Maliniak      M  1989-09-12\n",
       "...        ...         ...        ...       ...    ...         ...\n",
       "300019  499995  1958-09-24     Dekang  Lichtner      F  1993-01-12\n",
       "300020  499996  1953-03-07       Zito      Baaz      M  1990-09-27\n",
       "300021  499997  1961-08-03    Berhard    Lenart      M  1986-04-21\n",
       "300022  499998  1956-09-05   Patricia   Breugel      M  1993-10-13\n",
       "300023  499999  1958-05-01     Sachin   Tsukuda      M  1997-11-30\n",
       "\n",
       "[300024 rows x 6 columns]"
      ]
     },
     "execution_count": 3,
     "metadata": {},
     "output_type": "execute_result"
    }
   ],
   "source": [
    "import pandas as pd\n",
    "from env import user, password, host\n",
    "\n",
    "pd.read_sql(\"select * from employees\", get_db_url(user, password, host, 'employees'))"
   ]
  },
  {
   "cell_type": "code",
   "execution_count": null,
   "id": "ea78d286",
   "metadata": {},
   "outputs": [],
   "source": [
    "def get_data_from_sql(user, host, password, database, query):\n",
    "    \n",
    "    url = f'mysql+pymysql://{user}:{password}@{host}/{database}'\n",
    "        \n",
    "    return pd.read_sql(query, url)"
   ]
  },
  {
   "cell_type": "code",
   "execution_count": null,
   "id": "5337d78d",
   "metadata": {},
   "outputs": [],
   "source": [
    "query = '''select * from employees'''\n",
    "\n",
    "df = get_data_from_sql(user, host, password, \"employees\", query)"
   ]
  }
 ],
 "metadata": {
  "kernelspec": {
   "display_name": "Python 3",
   "language": "python",
   "name": "python3"
  },
  "language_info": {
   "codemirror_mode": {
    "name": "ipython",
    "version": 3
   },
   "file_extension": ".py",
   "mimetype": "text/x-python",
   "name": "python",
   "nbconvert_exporter": "python",
   "pygments_lexer": "ipython3",
   "version": "3.8.8"
  }
 },
 "nbformat": 4,
 "nbformat_minor": 5
}
