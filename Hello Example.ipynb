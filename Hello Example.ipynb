{
 "cells": [
  {
   "cell_type": "markdown",
   "id": "bd3bf404",
   "metadata": {},
   "source": [
    "This is Python\n",
    "This is an example of markdown\n",
    "Markdown is used for \n",
    "\n",
    "Here is plain text \n"
   ]
  },
  {
   "cell_type": "code",
   "execution_count": null,
   "id": "71aa5413",
   "metadata": {},
   "outputs": [],
   "source": [
    "2 + 2"
   ]
  },
  {
   "cell_type": "code",
   "execution_count": 2,
   "id": "a3e3965e",
   "metadata": {},
   "outputs": [
    {
     "name": "stdout",
     "output_type": "stream",
     "text": [
      "Hola\n"
     ]
    }
   ],
   "source": [
    "message = \"Hola\"\n",
    "print (message) "
   ]
  },
  {
   "cell_type": "code",
   "execution_count": 3,
   "id": "94d65e7c",
   "metadata": {},
   "outputs": [
    {
     "data": {
      "text/plain": [
       "15"
      ]
     },
     "execution_count": 3,
     "metadata": {},
     "output_type": "execute_result"
    }
   ],
   "source": [
    "3 * 5 "
   ]
  },
  {
   "cell_type": "code",
   "execution_count": 5,
   "id": "a5a69918",
   "metadata": {},
   "outputs": [
    {
     "data": {
      "text/plain": [
       "'Add new cells'"
      ]
     },
     "execution_count": 5,
     "metadata": {},
     "output_type": "execute_result"
    }
   ],
   "source": [
    "\"Add new cells\""
   ]
  },
  {
   "cell_type": "code",
   "execution_count": 4,
   "id": "17f2aee8",
   "metadata": {},
   "outputs": [],
   "source": [
    "None"
   ]
  },
  {
   "cell_type": "code",
   "execution_count": null,
   "id": "dec53922",
   "metadata": {},
   "outputs": [],
   "source": []
  }
 ],
 "metadata": {
  "kernelspec": {
   "display_name": "Python 3",
   "language": "python",
   "name": "python3"
  },
  "language_info": {
   "codemirror_mode": {
    "name": "ipython",
    "version": 3
   },
   "file_extension": ".py",
   "mimetype": "text/x-python",
   "name": "python",
   "nbconvert_exporter": "python",
   "pygments_lexer": "ipython3",
   "version": "3.8.8"
  }
 },
 "nbformat": 4,
 "nbformat_minor": 5
}
